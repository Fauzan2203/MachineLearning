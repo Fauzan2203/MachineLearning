{
  "nbformat": 4,
  "nbformat_minor": 0,
  "metadata": {
    "colab": {
      "provenance": [],
      "gpuType": "T4"
    },
    "kernelspec": {
      "name": "python3",
      "display_name": "Python 3"
    },
    "language_info": {
      "name": "python"
    },
    "accelerator": "GPU"
  },
  "cells": [
    {
      "cell_type": "code",
      "execution_count": 1,
      "metadata": {
        "id": "oT19jcgP-d4z"
      },
      "outputs": [],
      "source": [
        "# Mengimpor pustaka PyTorch untuk tugas deep learning dan pengolahan citra\n",
        "import torch\n",
        "import torch.nn as nn\n",
        "import torch.optim as optim\n",
        "import torchvision\n",
        "import torchvision.transforms as transforms\n",
        "from torch.utils.data import DataLoader"
      ]
    },
    {
      "cell_type": "code",
      "source": [
        "# Memilih perangkat (device) yang akan digunakan, jika CUDA (GPU) tersedia, gunakan CUDA, jika tidak, gunakan CPU\n",
        "device = torch.device(\"cuda\" if torch.cuda.is_available() else \"cpu\")"
      ],
      "metadata": {
        "id": "1pt2J1MD_zC7"
      },
      "execution_count": 2,
      "outputs": []
    },
    {
      "cell_type": "code",
      "source": [
        "# Mendefinisikan kelas VGGNet sebagai turunan dari nn.Module\n",
        "class VGGNet(nn.Module):\n",
        "    def __init__(self):\n",
        "        super(VGGNet, self).__init__()\n",
        "\n",
        "        # Definisi layer-layer dari arsitektur VGGNet\n",
        "        self.features = nn.Sequential(\n",
        "            nn.Conv2d(1, 64, kernel_size=3, padding=1),\n",
        "            nn.ReLU(inplace=True),\n",
        "            nn.MaxPool2d(kernel_size=2, stride=2),\n",
        "            nn.Conv2d(64, 128, kernel_size=3, padding=1),\n",
        "            nn.ReLU(inplace=True),\n",
        "            nn.MaxPool2d(kernel_size=2, stride=2),\n",
        "            nn.Conv2d(128, 256, kernel_size=3, padding=1),\n",
        "            nn.ReLU(inplace=True),\n",
        "            nn.Conv2d(256, 256, kernel_size=3, padding=1),\n",
        "            nn.ReLU(inplace=True),\n",
        "            nn.MaxPool2d(kernel_size=2, stride=2),\n",
        "        )\n",
        "\n",
        "        self.avgpool = nn.AdaptiveAvgPool2d((7, 7))\n",
        "\n",
        "        self.classifier = nn.Sequential(\n",
        "            nn.Linear(256 * 7 * 7, 4096),\n",
        "            nn.ReLU(inplace=True),\n",
        "            nn.Dropout(),\n",
        "            nn.Linear(4096, 4096),\n",
        "            nn.ReLU(inplace=True),\n",
        "            nn.Dropout(),\n",
        "            nn.Linear(4096, 10),  # 10 classes for MNIST\n",
        "        )\n",
        "\n",
        "    # Definisi langkah-langkah forward propagation\n",
        "    def forward(self, x):\n",
        "        x = self.features(x)\n",
        "        x = self.avgpool(x)\n",
        "        x = x.view(x.size(0), -1)\n",
        "        x = self.classifier(x)\n",
        "        return x"
      ],
      "metadata": {
        "id": "tIEtkpy0_z3c"
      },
      "execution_count": 3,
      "outputs": []
    },
    {
      "cell_type": "code",
      "source": [
        "# Memuat dataset MNIST dan menentukan transformasi data\n",
        "transform = transforms.Compose([\n",
        "    transforms.Resize((28, 28)),  # Mengubah ukuran gambar menjadi (28, 28)\n",
        "    transforms.ToTensor(),  # Mengubah gambar menjadi tensor PyTorch\n",
        "])\n",
        "\n",
        "# Membuat objek dataset pelatihan dan pengujian menggunakan dataset MNIST\n",
        "train_dataset = torchvision.datasets.MNIST(root=\"./data\", train=True, download=True, transform=transform)\n",
        "test_dataset = torchvision.datasets.MNIST(root=\"./data\", train=False, download=True, transform=transform)\n",
        "\n",
        "# Membuat DataLoader untuk mempermudah pengelolaan batch data pada pelatihan dan pengujian\n",
        "train_loader = DataLoader(dataset=train_dataset, batch_size=64, shuffle=True)\n",
        "test_loader = DataLoader(dataset=test_dataset, batch_size=64, shuffle=False)"
      ],
      "metadata": {
        "colab": {
          "base_uri": "https://localhost:8080/"
        },
        "id": "3RIq0P32BDza",
        "outputId": "cebf5194-27f4-4de4-9d5b-5d0f5b80d20d"
      },
      "execution_count": 4,
      "outputs": [
        {
          "output_type": "stream",
          "name": "stdout",
          "text": [
            "Downloading http://yann.lecun.com/exdb/mnist/train-images-idx3-ubyte.gz\n",
            "Downloading http://yann.lecun.com/exdb/mnist/train-images-idx3-ubyte.gz to ./data/MNIST/raw/train-images-idx3-ubyte.gz\n"
          ]
        },
        {
          "output_type": "stream",
          "name": "stderr",
          "text": [
            "100%|██████████| 9912422/9912422 [00:00<00:00, 89489999.13it/s]\n"
          ]
        },
        {
          "output_type": "stream",
          "name": "stdout",
          "text": [
            "Extracting ./data/MNIST/raw/train-images-idx3-ubyte.gz to ./data/MNIST/raw\n",
            "\n",
            "Downloading http://yann.lecun.com/exdb/mnist/train-labels-idx1-ubyte.gz\n",
            "Downloading http://yann.lecun.com/exdb/mnist/train-labels-idx1-ubyte.gz to ./data/MNIST/raw/train-labels-idx1-ubyte.gz\n"
          ]
        },
        {
          "output_type": "stream",
          "name": "stderr",
          "text": [
            "100%|██████████| 28881/28881 [00:00<00:00, 88874316.82it/s]\n"
          ]
        },
        {
          "output_type": "stream",
          "name": "stdout",
          "text": [
            "Extracting ./data/MNIST/raw/train-labels-idx1-ubyte.gz to ./data/MNIST/raw\n",
            "\n",
            "Downloading http://yann.lecun.com/exdb/mnist/t10k-images-idx3-ubyte.gz\n",
            "Downloading http://yann.lecun.com/exdb/mnist/t10k-images-idx3-ubyte.gz to ./data/MNIST/raw/t10k-images-idx3-ubyte.gz\n"
          ]
        },
        {
          "output_type": "stream",
          "name": "stderr",
          "text": [
            "100%|██████████| 1648877/1648877 [00:00<00:00, 33548999.46it/s]\n"
          ]
        },
        {
          "output_type": "stream",
          "name": "stdout",
          "text": [
            "Extracting ./data/MNIST/raw/t10k-images-idx3-ubyte.gz to ./data/MNIST/raw\n",
            "\n",
            "Downloading http://yann.lecun.com/exdb/mnist/t10k-labels-idx1-ubyte.gz\n",
            "Downloading http://yann.lecun.com/exdb/mnist/t10k-labels-idx1-ubyte.gz to ./data/MNIST/raw/t10k-labels-idx1-ubyte.gz\n"
          ]
        },
        {
          "output_type": "stream",
          "name": "stderr",
          "text": [
            "100%|██████████| 4542/4542 [00:00<00:00, 20180644.88it/s]"
          ]
        },
        {
          "output_type": "stream",
          "name": "stdout",
          "text": [
            "Extracting ./data/MNIST/raw/t10k-labels-idx1-ubyte.gz to ./data/MNIST/raw\n",
            "\n"
          ]
        },
        {
          "output_type": "stream",
          "name": "stderr",
          "text": [
            "\n"
          ]
        }
      ]
    },
    {
      "cell_type": "code",
      "source": [
        "# Menginisialisasi model, fungsi loss, dan optimizer\n",
        "model = VGGNet().to(device)  # Membuat instance dari kelas VGGNet dan memindahkannya ke perangkat yang telah ditentukan sebelumnya\n",
        "criterion = nn.CrossEntropyLoss()  # Menggunakan fungsi loss CrossEntropyLoss untuk klasifikasi multikelas\n",
        "optimizer = optim.Adam(model.parameters(), lr=0.001)  # Menggunakan optimizer Adam dengan learning rate sebesar 0.001"
      ],
      "metadata": {
        "id": "id4y1hXOB8MB"
      },
      "execution_count": 5,
      "outputs": []
    },
    {
      "cell_type": "code",
      "source": [
        "# Pelatihan model\n",
        "num_epochs = 5\n",
        "\n",
        "for epoch in range(num_epochs):\n",
        "    model.train()  # Mengaktifkan mode pelatihan pada model\n",
        "    total_loss = 0.0\n",
        "\n",
        "    # Iterasi untuk setiap batch pada data pelatihan\n",
        "    for inputs, labels in train_loader:\n",
        "        inputs, labels = inputs.to(device), labels.to(device)\n",
        "\n",
        "        optimizer.zero_grad()  # Mengatur gradien parameter model menjadi 0\n",
        "\n",
        "        outputs = model(inputs)  # Melakukan forward pass\n",
        "        loss = criterion(outputs, labels)  # Menghitung nilai fungsi loss\n",
        "        loss.backward()  # Melakukan backward pass\n",
        "        optimizer.step()  # Optimasi parameter model\n",
        "\n",
        "        total_loss += loss.item()\n",
        "\n",
        "    # Menampilkan informasi hasil pelatihan pada setiap epoch\n",
        "    print(f\"Epoch {epoch + 1}/{num_epochs}, Loss: {total_loss / len(train_loader)}\")"
      ],
      "metadata": {
        "colab": {
          "base_uri": "https://localhost:8080/"
        },
        "id": "iKJCk94TB8_C",
        "outputId": "e0568106-c9eb-4ccb-aa3c-79321912057f"
      },
      "execution_count": 6,
      "outputs": [
        {
          "output_type": "stream",
          "name": "stdout",
          "text": [
            "Epoch 1/5, Loss: 0.22661308444582665\n",
            "Epoch 2/5, Loss: 0.06579108356891859\n",
            "Epoch 3/5, Loss: 0.05726492838138797\n",
            "Epoch 4/5, Loss: 0.044215179256350504\n",
            "Epoch 5/5, Loss: 0.03938250152943146\n"
          ]
        }
      ]
    },
    {
      "cell_type": "code",
      "source": [
        "# Pengujian model\n",
        "model.eval()  # Mengubah model ke mode evaluasi (non-pelatihan)\n",
        "total_correct = 0\n",
        "total_samples = 0\n",
        "\n",
        "with torch.no_grad():\n",
        "    # Iterasi untuk setiap batch pada data uji\n",
        "    for inputs, labels in test_loader:\n",
        "        inputs, labels = inputs.to(device), labels.to(device)\n",
        "\n",
        "        outputs = model(inputs)  # Melakukan forward pass\n",
        "        _, predictions = torch.max(outputs, 1)  # Mengambil indeks kelas dengan nilai probabilitas tertinggi\n",
        "\n",
        "        total_correct += (predictions == labels).sum().item()  # Menghitung jumlah prediksi yang benar\n",
        "        total_samples += labels.size(0)  # Menghitung jumlah sampel total\n",
        "\n",
        "# Menghitung dan menampilkan akurasi pada data uji\n",
        "accuracy = total_correct / total_samples\n",
        "print(f\"Test Accuracy: {accuracy}\")"
      ],
      "metadata": {
        "colab": {
          "base_uri": "https://localhost:8080/"
        },
        "id": "W_6vUsWNCPVA",
        "outputId": "1e12afc0-8fe6-4577-b6fa-8514140f747c"
      },
      "execution_count": 7,
      "outputs": [
        {
          "output_type": "stream",
          "name": "stdout",
          "text": [
            "Test Accuracy: 0.9883\n"
          ]
        }
      ]
    }
  ]
}